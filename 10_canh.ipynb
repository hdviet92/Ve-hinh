{
 "cells": [
  {
   "cell_type": "code",
   "execution_count": 1,
   "id": "2f42cfcc",
   "metadata": {},
   "outputs": [],
   "source": [
    "# Bước 1: Import\n",
    "import turtle\n",
    "\n",
    "# Bước 2: Tọa đối tượng turtle\n",
    "tl= turtle.Turtle()\n",
    "tl.shape('turtle')\n",
    "tl.speed(9)\n",
    "tl.pencolor('orange')\n",
    "\n",
    "# Bước 3: Control tl\n",
    "tl.fillcolor('orange')\n",
    "tl.begin_fill()\n",
    "tl.penup()\n",
    "tl.goto(-50,162)\n",
    "tl.pendown()\n",
    "for x in range(10) :\n",
    "    tl.forward(100)\n",
    "    tl.right(36)\n",
    "tl.end_fill()\n",
    "    \n",
    "# Bước 4: End\n",
    "turtle.done()"
   ]
  },
  {
   "cell_type": "code",
   "execution_count": null,
   "id": "55a79e56",
   "metadata": {},
   "outputs": [],
   "source": []
  }
 ],
 "metadata": {
  "kernelspec": {
   "display_name": "Python 3 (ipykernel)",
   "language": "python",
   "name": "python3"
  },
  "language_info": {
   "codemirror_mode": {
    "name": "ipython",
    "version": 3
   },
   "file_extension": ".py",
   "mimetype": "text/x-python",
   "name": "python",
   "nbconvert_exporter": "python",
   "pygments_lexer": "ipython3",
   "version": "3.9.7"
  }
 },
 "nbformat": 4,
 "nbformat_minor": 5
}
