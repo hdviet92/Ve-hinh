{
 "cells": [
  {
   "cell_type": "code",
   "execution_count": null,
   "id": "bf761095",
   "metadata": {},
   "outputs": [],
   "source": [
    "# Bước 1: Import module turtle\n",
    "import turtle\n",
    "\n",
    "# Bước 2: Tạo đối tượng turtle\n",
    "tl = turtle.Turtle()\n",
    "tl.shape(\"turtle\")\n",
    "tl.pensize(3)\n",
    "tl.pencolor('yellow')\n",
    "tl.speed(1)\n",
    "tl.fillcolor('orange')\n",
    "\n",
    "#  Bước 3: Điều khiển đối tượng tl\n",
    "tl.begin_fill()\n",
    "tl.forward (200)\n",
    "tl.right (135)\n",
    "tl.forward (100)\n",
    "tl.right (45)\n",
    "tl.forward (200)\n",
    "tl.left (-135)\n",
    "tl.forward (100)\n",
    "tl.end_fill()\n",
    "\n",
    "tl.penup()\n",
    "tl.forward (100)\n",
    "tl.pendown()\n",
    "tl.pencolor('red')\n",
    "tl.fillcolor('orange')\n",
    "tl.begin_fill()\n",
    "tl.circle (50)\n",
    "tl.end_fill()\n",
    "\n",
    "# Bước 4: Hoàn thành\n",
    "turtle.done()"
   ]
  },
  {
   "cell_type": "code",
   "execution_count": null,
   "id": "cf107e50",
   "metadata": {},
   "outputs": [],
   "source": []
  },
  {
   "cell_type": "code",
   "execution_count": null,
   "id": "0f55c646",
   "metadata": {},
   "outputs": [],
   "source": []
  },
  {
   "cell_type": "code",
   "execution_count": null,
   "id": "8800b7d5",
   "metadata": {},
   "outputs": [],
   "source": []
  }
 ],
 "metadata": {
  "kernelspec": {
   "display_name": "Python 3 (ipykernel)",
   "language": "python",
   "name": "python3"
  },
  "language_info": {
   "codemirror_mode": {
    "name": "ipython",
    "version": 3
   },
   "file_extension": ".py",
   "mimetype": "text/x-python",
   "name": "python",
   "nbconvert_exporter": "python",
   "pygments_lexer": "ipython3",
   "version": "3.9.7"
  }
 },
 "nbformat": 4,
 "nbformat_minor": 5
}
